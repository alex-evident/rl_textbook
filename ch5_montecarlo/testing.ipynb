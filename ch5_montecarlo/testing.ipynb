{
 "cells": [
  {
   "cell_type": "markdown",
   "metadata": {},
   "source": [
    "# Racetrack Problem - Using MC Control to direct a car"
   ]
  },
  {
   "cell_type": "code",
   "execution_count": 1,
   "metadata": {},
   "outputs": [],
   "source": [
    "import numpy as np\n",
    "import matplotlib.pyplot as plt\n",
    "import matplotlib.colors as mpc\n",
    "import pickle"
   ]
  },
  {
   "cell_type": "code",
   "execution_count": 5,
   "metadata": {},
   "outputs": [],
   "source": [
    "# make a color map of fixed colors\n",
    "track_col = \"#F6EFC8\"\n",
    "car_col = \"#3F4FE0\"\n",
    "bg_col = \"#26261E\"\n",
    "start_col = \"#D88680\"\n",
    "finish_col = \"#6FAE6C\"\n",
    "cmap = mpc.ListedColormap([track_col, bg_col, start_col, finish_col, car_col])\n",
    "bounds = [-1, 1, 2, 3, 4, 5]\n",
    "norm = mpc.BoundaryNorm(bounds, cmap.N)\n",
    "\n",
    "value_dict = {\" \": 0, \"*\": 1, \"S\": 2, \"F\": 3, \"C\": 4}\n",
    "\n",
    "\n",
    "def plot_track(\n",
    "    track: np.ndarray,\n",
    "    state: None | np.ndarray = None,\n",
    "    t: None | int = None,\n",
    "):\n",
    "    # tell imshow about color map so that only set colors are used\n",
    "    track_plot = track.copy()\n",
    "    if state is not None:\n",
    "        track_plot[state[0], state[1]] = value_dict[\"C\"]\n",
    "    plt.imshow(\n",
    "        track_plot, interpolation=\"nearest\", cmap=cmap, norm=norm, origin=\"lower\"\n",
    "    )\n",
    "    if t is not None:\n",
    "        plt.title(f\"Time step: {t}\")\n",
    "    plt.axis(\"off\")\n",
    "\n",
    "    # set the limits of the axes to include the area where the text will be displayed\n",
    "    plt.xlim([-1, track.shape[1] + 1])\n",
    "    plt.ylim([-1, track.shape[0] + 1])\n",
    "\n",
    "    # alongside the image, add text showing the 4 state components: y, x, v_y, v_x\n",
    "    if state is not None:\n",
    "        state_names = [\"$y$\", \"$x$\", \"$v_y$\", \"$v_x$\"]\n",
    "        state_str = \"\\n\".join([f\"{name}: {s}\" for name, s in zip(state_names, state)])\n",
    "        plt.text(\n",
    "            track.shape[1] + 3,\n",
    "            track.shape[0] / 2,\n",
    "            state_str,\n",
    "            color=\"black\",\n",
    "            fontsize=12,\n",
    "        )\n",
    "\n",
    "    plt.show()"
   ]
  },
  {
   "cell_type": "code",
   "execution_count": 6,
   "metadata": {},
   "outputs": [
    {
     "data": {
      "image/png": "[encoded data removed]",
      "text/plain": [
       "<Figure size 640x480 with 1 Axes>"
      ]
     },
     "metadata": {},
     "output_type": "display_data"
    }
   ],
   "source": [
    "grid_file = \"track1.txt\"\n",
    "\n",
    "track = None\n",
    "with open(grid_file, \"r\") as f:\n",
    "    start_grid = np.array(\n",
    "        [[value_dict[c] for c in line.strip()] for line in f.readlines()]\n",
    "    )\n",
    "    start_grid = np.flip(start_grid, axis=0)\n",
    "\n",
    "x_bounds = (0, start_grid.shape[1] - 1)\n",
    "y_bounds = (0, start_grid.shape[0] - 1)\n",
    "\n",
    "finish_x = np.where(start_grid == value_dict[\"F\"])[1][0]\n",
    "finish_y_min = np.where(start_grid == value_dict[\"F\"])[0][0]\n",
    "finish_y_max = np.where(start_grid == value_dict[\"F\"])[0][-1]\n",
    "\n",
    "\n",
    "def init_track():\n",
    "    return start_grid.copy()\n",
    "\n",
    "\n",
    "track = init_track()\n",
    "plot_track(track)"
   ]
  },
  {
   "cell_type": "code",
   "execution_count": 8,
   "metadata": {},
   "outputs": [
    {
     "data": {
      "image/png": "[encoded data removed]",
      "text/plain": [
       "<Figure size 640x480 with 1 Axes>"
      ]
     },
     "metadata": {},
     "output_type": "display_data"
    }
   ],
   "source": [
    "start_line_pos = np.array(np.where(track == value_dict[\"S\"]))\n",
    "\n",
    "track = init_track()\n",
    "\n",
    "\n",
    "# let's get a random start position for the car\n",
    "def init_state():\n",
    "    y, x = start_line_pos[:, np.random.randint(start_line_pos.shape[1])]\n",
    "    v_y, v_x = 0, 0\n",
    "    return np.array((y, x, v_y, v_x))\n",
    "\n",
    "\n",
    "def return_to_start():\n",
    "    \"\"\"doesn't reset the velocity, just the position\"\"\"\n",
    "    global state\n",
    "    y, x = start_line_pos[:, np.random.randint(start_line_pos.shape[1])]\n",
    "    state[:2] = y, x\n",
    "\n",
    "\n",
    "terminated = False\n",
    "t = 0\n",
    "state = init_state()\n",
    "plot_track(track, state)"
   ]
  },
  {
   "cell_type": "code",
   "execution_count": 10,
   "metadata": {},
   "outputs": [],
   "source": [
    "from IPython import display\n",
    "import time\n",
    "\n",
    "\n",
    "# Time to try moving the car - let's set it's v_y to 1 (which will counterintuitively need to move it down)\n",
    "def update_state():\n",
    "    global state\n",
    "    global terminated\n",
    "    global t\n",
    "    t += 1\n",
    "    y, x, v_y, v_x = state\n",
    "    state[0] = np.clip(state[0] + v_y, a_min=y_bounds[0], a_max=y_bounds[1])\n",
    "    state[1] = np.clip(state[1] + v_x, a_min=x_bounds[0], a_max=x_bounds[1])\n",
    "\n",
    "    new_loc = track[state[0], state[1]]\n",
    "\n",
    "    # check if finished\n",
    "    if new_loc == value_dict[\"F\"]:\n",
    "        # print(\"Finished!\")\n",
    "        terminated = True\n",
    "        return\n",
    "\n",
    "    # check if gone out of bounds\n",
    "    if new_loc == value_dict[\"*\"]:\n",
    "        # If we intersected with the finish line, we're done.\n",
    "        passed_finish_x = state[1] >= finish_x\n",
    "        passed_finish_y = state[0] >= finish_y_min and state[0] <= finish_y_max\n",
    "        if passed_finish_x and passed_finish_y:\n",
    "            # print(\"Finished!\")\n",
    "            terminated = True\n",
    "        else:\n",
    "            # return the car to the start line and remove it's velocity\n",
    "            state[2:] = 0, 0\n",
    "            return_to_start()\n",
    "\n",
    "\n",
    "# we want a 3x3 grid of actions - each item is a tuple of (dv_y, dv_x)\n",
    "# fmt: off\n",
    "A = np.array([\n",
    "    (-1, -1), (-1, 0), (-1, 1),\n",
    "    ( 0, -1), ( 0, 0), ( 0, 1),\n",
    "    ( 1, -1), ( 1, 0), ( 1, 1)\n",
    "])\n",
    "# fmt: on\n",
    "dv_y, dv_x = A[0]\n",
    "\n",
    "\n",
    "def fast_simulate_episode(\n",
    "    policy: np.ndarray,\n",
    "    max_steps: int = 500,\n",
    "    noise_prob=0.1,\n",
    "    eps=0.05,\n",
    ") -> None:\n",
    "    global state\n",
    "    global terminated\n",
    "    global t\n",
    "    state = init_state()\n",
    "    terminated = False\n",
    "    t = 0\n",
    "    states_hist = []\n",
    "    actions_hist = []\n",
    "    while not terminated:\n",
    "        # select an action - epsilon greedy\n",
    "        if np.random.rand() < eps:\n",
    "            a = np.random.randint(len(A))\n",
    "        else:\n",
    "            a = policy[tuple(state)]\n",
    "        actions_hist.append(a)\n",
    "        states_hist.append(state.copy())\n",
    "\n",
    "        # there is a 10% chance that no action is taken\n",
    "        if np.random.rand() < noise_prob:\n",
    "            dv_y, dv_x = 0, 0\n",
    "        else:\n",
    "            dv_y, dv_x = A[a]\n",
    "\n",
    "        # Apply the action and update the state\n",
    "        state[2] = np.clip(state[2] + dv_y, a_min=0, a_max=4)\n",
    "        state[3] = np.clip(state[3] + dv_x, a_min=0, a_max=4)\n",
    "        update_state()\n",
    "        if t > max_steps:\n",
    "            break\n",
    "    return terminated, np.array(states_hist), np.array(actions_hist)"
   ]
  },
  {
   "cell_type": "code",
   "execution_count": 11,
   "metadata": {},
   "outputs": [],
   "source": [
    "# to initialise the value function, we'll need to know the full size of the state-space\n",
    "# this means every possible in-bounds value of x,y and all possible velocities (0 to 4 in each x and y), and all possible actions (9)\n",
    "possible_states = (track.shape[0], track.shape[1], 5, 5, 9)\n",
    "C = np.zeros(possible_states)\n",
    "Q = np.random.rand(*possible_states) - 35\n",
    "pi = np.argmax(Q, axis=-1)\n",
    "gamma = 0.9\n",
    "num_episodes = 50_000_000\n",
    "finished_count = 0\n",
    "terminated = False\n",
    "G_hist = []\n",
    "eps = 0.05\n",
    "# setup for early stopping\n",
    "pi_last = pi.copy()\n",
    "\n",
    "for i in range(num_episodes):\n",
    "    terminated, states_hist, actions_hist = fast_simulate_episode(\n",
    "        policy=pi, max_steps=500, noise_prob=0.1, eps=eps\n",
    "    )\n",
    "    if i % 1_000_000 == 0:\n",
    "        if (pi == pi_last).all() and i > 0:\n",
    "            print(f\"Early stopping\")\n",
    "            break\n",
    "        pi_last = pi.copy()\n",
    "        print(f\"Episode {i:>7,} - Finished: {finished_count:>7,}/{i:,}\")\n",
    "\n",
    "    if not terminated:\n",
    "        continue\n",
    "\n",
    "    G = 0\n",
    "    W = 1\n",
    "    finished_count += 1\n",
    "    T = len(states_hist)\n",
    "    for t in range(T - 1, -1, -1):\n",
    "        if t == T - 1:\n",
    "            G = 0\n",
    "        else:\n",
    "            G = gamma * G - 1\n",
    "        G_hist.append(G)\n",
    "        S_t = tuple(states_hist[t])\n",
    "        A_t = actions_hist[t]\n",
    "        S_t_A_t = S_t + (A_t,)  # concatenate the state and action to get the index\n",
    "        C[S_t_A_t] += W\n",
    "        Q[S_t_A_t] += W / C[S_t_A_t] * (G - Q[S_t_A_t])\n",
    "        pi[S_t] = np.argmax(Q[S_t])\n",
    "        if A_t != pi[S_t]:\n",
    "            break\n",
    "        W = W * (1 - eps + eps / len(A))\n",
    "\n",
    "print(f\"Episode {i:>7,} - Finished: {finished_count:>7,}/{i:,}\")"
   ]
  },
  {
   "cell_type": "code",
   "execution_count": 38,
   "metadata": {},
   "outputs": [
    {
     "data": {
      "image/png": "[encoded data removed]",
      "text/plain": [
       "<Figure size 640x480 with 1 Axes>"
      ]
     },
     "metadata": {},
     "output_type": "display_data"
    }
   ],
   "source": [
    "plot_track(track)"
   ]
  },
  {
   "cell_type": "code",
   "execution_count": 20,
   "metadata": {},
   "outputs": [],
   "source": [
    "def vis_simulate_episode(\n",
    "    policy: np.ndarray,\n",
    "    max_steps: int = 500,\n",
    "    noise_prob=0.1,\n",
    "    eps=0.05,\n",
    "    render_time: float = 0.1,\n",
    "    start_pos: tuple[int, int] | None = None,\n",
    ") -> None:\n",
    "    global state\n",
    "    global terminated\n",
    "    global t\n",
    "    state = init_state()\n",
    "    if start_pos is not None:\n",
    "        state[:2] = start_pos\n",
    "    terminated = False\n",
    "    t = 0\n",
    "    states_hist = []\n",
    "    actions_hist = []\n",
    "    while not terminated:\n",
    "        # select an action - epsilon greedy\n",
    "        if np.random.rand() < eps:\n",
    "            a = np.random.randint(len(A))\n",
    "        else:\n",
    "            a = policy[tuple(state)]\n",
    "        actions_hist.append(a)\n",
    "        states_hist.append(state.copy())\n",
    "\n",
    "        # there is a 10% chance that no action is taken\n",
    "        if np.random.rand() < noise_prob:\n",
    "            dv_y, dv_x = 0, 0\n",
    "        else:\n",
    "            dv_y, dv_x = A[a]\n",
    "\n",
    "        # Apply the action and update the state\n",
    "        state[2] = np.clip(state[2] + dv_y, a_min=0, a_max=4)\n",
    "        state[3] = np.clip(state[3] + dv_x, a_min=0, a_max=4)\n",
    "        update_state()\n",
    "        if t > max_steps:\n",
    "            break\n",
    "        plot_track(track, state, t)\n",
    "        display.display(plt.gcf())\n",
    "        display.clear_output(wait=True)\n",
    "        time.sleep(render_time)\n",
    "    plot_track(track, state, t)\n",
    "    return terminated, np.array(states_hist), np.array(actions_hist)\n",
    "\n",
    "\n",
    "def vis_simulate_random_episode(\n",
    "    policy: np.ndarray,\n",
    "    max_steps: int = 500,\n",
    "    noise_prob=0.1,\n",
    "    eps=0.05,\n",
    "    render_time: float = 0.1,\n",
    "    start_pos: tuple[int, int] | None = None,\n",
    ") -> None:\n",
    "    global state\n",
    "    global terminated\n",
    "    global t\n",
    "    state = init_state()\n",
    "    if start_pos is not None:\n",
    "        state[:2] = start_pos\n",
    "    terminated = False\n",
    "    t = 0\n",
    "    states_hist = []\n",
    "    actions_hist = []\n",
    "    while not terminated:\n",
    "        # select an action - epsilon greedy\n",
    "        a = np.random.randint(len(A))\n",
    "        actions_hist.append(a)\n",
    "        states_hist.append(state.copy())\n",
    "\n",
    "        # there is a 10% chance that no action is taken\n",
    "        if np.random.rand() < noise_prob:\n",
    "            dv_y, dv_x = 0, 0\n",
    "        else:\n",
    "            dv_y, dv_x = A[a]\n",
    "\n",
    "        # Apply the action and update the state\n",
    "        state[2] = np.clip(state[2] + dv_y, a_min=0, a_max=4)\n",
    "        state[3] = np.clip(state[3] + dv_x, a_min=0, a_max=4)\n",
    "        update_state()\n",
    "        if t > max_steps:\n",
    "            break\n",
    "        plot_track(track, state, t)\n",
    "        display.display(plt.gcf())\n",
    "        display.clear_output(wait=True)\n",
    "        time.sleep(render_time)\n",
    "    plot_track(track, state, t)\n",
    "    return terminated, np.array(states_hist), np.array(actions_hist)"
   ]
  },
  {
   "cell_type": "code",
   "execution_count": 51,
   "metadata": {},
   "outputs": [],
   "source": [
    "with open(\"Q_trained.pkl\", \"wb\") as f:\n",
    "    pickle.dump(Q, f)\n",
    "\n",
    "with open(\"pi_trained.pkl\", \"wb\") as f:\n",
    "    pickle.dump(pi, f)"
   ]
  },
  {
   "cell_type": "code",
   "execution_count": 27,
   "metadata": {},
   "outputs": [],
   "source": [
    "with open(\"pi_trained.pkl\", \"rb\") as f:\n",
    "    pi = pickle.load(f)"
   ]
  },
  {
   "cell_type": "code",
   "execution_count": 33,
   "metadata": {},
   "outputs": [
    {
     "data": {
      "image/png": "[encoded data removed]",
      "text/plain": [
       "<Figure size 640x480 with 1 Axes>"
      ]
     },
     "metadata": {},
     "output_type": "display_data"
    }
   ],
   "source": [
    "for i in range(5):\n",
    "    _ = vis_simulate_episode(pi, render_time=0.1, noise_prob=0.0, eps=0.0)"
   ]
  },
  {
   "cell_type": "code",
   "execution_count": 30,
   "metadata": {},
   "outputs": [
    {
     "data": {
      "text/plain": [
       "array([[ 1,  1,  1,  1,  1,  1,  1],\n",
       "       [ 6,  7,  8,  9, 10, 11, 12]])"
      ]
     },
     "execution_count": 30,
     "metadata": {},
     "output_type": "execute_result"
    }
   ],
   "source": [
    "start_line_pos"
   ]
  },
  {
   "cell_type": "code",
   "execution_count": 53,
   "metadata": {},
   "outputs": [
    {
     "data": {
      "text/plain": [
       "array([-1,  1])"
      ]
     },
     "execution_count": 53,
     "metadata": {},
     "output_type": "execute_result"
    }
   ],
   "source": [
    "A[pi[1, 12, 0, 0]]"
   ]
  },
  {
   "cell_type": "code",
   "execution_count": null,
   "metadata": {},
   "outputs": [],
   "source": []
  }
 ],
 "metadata": {
  "kernelspec": {
   "display_name": "venv",
   "language": "python",
   "name": "python3"
  },
  "language_info": {
   "codemirror_mode": {
    "name": "ipython",
    "version": 3
   },
   "file_extension": ".py",
   "mimetype": "text/x-python",
   "name": "python",
   "nbconvert_exporter": "python",
   "pygments_lexer": "ipython3",
   "version": "3.12.3"
  }
 },
 "nbformat": 4,
 "nbformat_minor": 2
}
